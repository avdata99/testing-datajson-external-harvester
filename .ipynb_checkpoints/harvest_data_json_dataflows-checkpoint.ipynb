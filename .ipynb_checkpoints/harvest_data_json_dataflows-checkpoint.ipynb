{
 "cells": [
  {
   "cell_type": "code",
   "execution_count": 8,
   "metadata": {},
   "outputs": [
    {
     "name": "stdout",
     "output_type": "stream",
     "text": [
      "res_1:\n",
      "#    title                         description\n",
      "     (string)                      (string)\n",
      "---  ----------------------------  --------------------------------------------------------------------------------------------------------\n",
      "1    311 Data                      This data set shows 311 service requests in the City of Pittsburgh. This data is collected from the  ...\n",
      "2    Allegheny County Air Quality  Air quality data from Allegheny County Health Department monitors throughout the county.\n",
      "\n",
      "                                   Air qua ...\n",
      "...\n",
      "316  Pittsburgh Wards Map          Allows users to look up City of Pittsburgh Wards\n"
     ]
    },
    {
     "data": {
      "text/plain": [
       "{'bytes': 226272,\n",
       " 'count_of_rows': 316,\n",
       " 'dataset_name': None,\n",
       " 'hash': '9cfd332fe983535916b0c7a9f1e9c153'}"
      ]
     },
     "execution_count": 8,
     "metadata": {},
     "output_type": "execute_result"
    }
   ],
   "source": [
    "from dataflows import Flow, printer, dump_to_path\n",
    "from urllib.request import urlopen\n",
    "import json\n",
    "\n",
    "# For testing data.json\n",
    "# just 1 dataset without validation errors http://data.exim.gov/data.json\n",
    "# 316 datasets with validation erros https://data.wprdc.org/data.json\n",
    "# 2868 datasets with validation errors https://www.energy.gov/sites/prod/files/2019/04/f61/doe-pdl-4-8-2019_0.json\n",
    "# 87 MB json with validation errors https://data.nasa.gov/data.json --request_timeout 90\n",
    "\n",
    "\n",
    "\n",
    "\n",
    "# Get from Wikipedia the population count for each country\n",
    "def data_json(url):\n",
    "    # Read the Wikipedia page and parse it using etree\n",
    "    raw_data = urlopen(url).read()\n",
    "    json_data = json.loads(raw_data)\n",
    "    \n",
    "    for dataset in json_data['dataset']:\n",
    "        # yield(dataset)\n",
    "        yield dict(title=dataset['title'], description=dataset['description'])\n",
    "\n",
    "# name, url = 'EXIM', 'http://data.exim.gov/data.json'\n",
    "name, url = 'WPRDC', 'https://data.wprdc.org/data.json'\n",
    "Flow(\n",
    "      data_json(url),\n",
    "      dump_to_path(f'package_{name}'),\n",
    "      printer(num_rows=1, tablefmt='html')\n",
    ").process()[1]"
   ]
  },
  {
   "cell_type": "code",
   "execution_count": null,
   "metadata": {},
   "outputs": [],
   "source": []
  }
 ],
 "metadata": {
  "kernelspec": {
   "display_name": "Python 3",
   "language": "python",
   "name": "python3"
  },
  "language_info": {
   "codemirror_mode": {
    "name": "ipython",
    "version": 3
   },
   "file_extension": ".py",
   "mimetype": "text/x-python",
   "name": "python",
   "nbconvert_exporter": "python",
   "pygments_lexer": "ipython3",
   "version": "3.6.7"
  }
 },
 "nbformat": 4,
 "nbformat_minor": 2
}
