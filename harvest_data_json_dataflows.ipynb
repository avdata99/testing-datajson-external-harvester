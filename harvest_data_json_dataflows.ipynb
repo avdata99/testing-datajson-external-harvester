{
 "cells": [
  {
   "cell_type": "code",
   "execution_count": 14,
   "metadata": {},
   "outputs": [
    {
     "name": "stdout",
     "output_type": "stream",
     "text": [
      "Catalog finded: {'conformsTo': 'https://project-open-data.cio.gov/v1.1/schema', 'describedBy': 'https://project-open-data.cio.gov/v1.1/schema/catalog.json', '@context': 'https://project-open-data.cio.gov/v1.1/schema/catalog.jsonld', '@type': 'dcat:Catalog'}\n"
     ]
    },
    {
     "data": {
      "text/html": [
       "<h3>res_1</h3>"
      ],
      "text/plain": [
       "<IPython.core.display.HTML object>"
      ]
     },
     "metadata": {},
     "output_type": "display_data"
    },
    {
     "data": {
      "text/html": [
       "<table>\n",
       "<thead>\n",
       "<tr><th>#  </th><th>title\n",
       "(string)                                                      </th><th>description\n",
       "(string)                                                                                                         </th></tr>\n",
       "</thead>\n",
       "<tbody>\n",
       "<tr><td>1  </td><td>311 Data                                             </td><td>This data set shows 311 service requests in the City of Pittsburgh. This data is collected from the  ...</td></tr>\n",
       "<tr><td>2  </td><td>Allegheny County Air Quality                         </td><td>Air quality data from Allegheny County Health Department monitors throughout the county. \r\n",
       "\r\n",
       "Air qua ...                                                                                                         </td></tr>\n",
       "<tr><td>3  </td><td>Right of Way Permits                                 </td><td>Submitted permits which affect the public right of way, including; road openings, machinery, valet p ...</td></tr>\n",
       "<tr><td>4  </td><td>Pittsburgh PLI Violations Report                     </td><td>Dataset containing Department of Permits, Licenses, and Inspections (PLI) violation notices that hav ...</td></tr>\n",
       "<tr><td>5  </td><td>Fire Incidents in City of Pittsburgh                 </td><td>Incidents of fire responded to by the Pittsburgh Bureau of Fire.                                        </td></tr>\n",
       "<tr><td>6  </td><td>Police Incident Blotter (30 Day)                     </td><td>The 30 Day Police Blotter contains the most recent initial crime incident data, updated on a nightly ...</td></tr>\n",
       "<tr><td>...</td><td>                                                     </td><td>                                                                                                        </td></tr>\n",
       "<tr><td>9  </td><td>Police Incident Blotter (Archive)                    </td><td>The Police Blotter Archive contains crime incident data after it has been validated and processed to ...</td></tr>\n",
       "<tr><td>10 </td><td>Non-Traffic Citations                                </td><td>Non-traffic citations (NTCs, also known as \"summary offenses\") document low-level criminal offenses  ...</td></tr>\n",
       "<tr><td>11 </td><td>Allegheny County Jail Daily Census                   </td><td>***CAUTION: This dataset is under maintenance and may not be complete.***\r\n",
       "\r\n",
       "A daily census of the i ...                                                                                                         </td></tr>\n",
       "<tr><td>12 </td><td>City Revenues and Expenses                           </td><td>City Revenues and Expenses from the Operating Budget from 2012 to Present, updated every night from  ...</td></tr>\n",
       "<tr><td>...</td><td>                                                     </td><td>                                                                                                        </td></tr>\n",
       "<tr><td>27 </td><td>Allegheny County Public Building Locations           </td><td><p>This dataset contains the locations of municipal facilities in Allegheny\r\n",
       "County.</p>\r\n",
       "\r\n",
       "<p>If vi ...                                                                                                         </td></tr>\n",
       "<tr><td>28 </td><td>Allegheny County Major Rivers                        </td><td><p>This dataset contains locations of major rivers that flow through\r\n",
       "Allegheny County. These shapes ...                                                                                                         </td></tr>\n",
       "<tr><td>29 </td><td>Allegheny County Block Areas                         </td><td><p>This dataset overlays a grid on the County to assist in locating a parcel.\r\n",
       "The grid squares are  ...                                                                                                         </td></tr>\n",
       "<tr><td>30 </td><td>Allegheny County Beltway System Street Centerlines   </td><td><p>Authoritative dataset of the beltway system in Allegheny County. The\r\n",
       "system was developed to hel ...                                                                                                         </td></tr>\n",
       "<tr><td>...</td><td>                                                     </td><td>                                                                                                        </td></tr>\n",
       "<tr><td>81 </td><td>25 Percent Slope Areas in Pittsburgh                 </td><td>25% Slope Area Pittsburgh                                                                               </td></tr>\n",
       "<tr><td>82 </td><td>Pittsburgh Emergency Medical System (EMS) Districts  </td><td>Pittsburgh Emergency Medical Service Districts<div><br /></div><div><div>Metadata: https://www.arcgi ...</td></tr>\n",
       "<tr><td>83 </td><td>Pittsburgh URA Main St. Program Boundaries           </td><td>Pittsburgh Urban Redevelopment Authority Main St Program Boundaries<div><br /></div><div>Metadata: h ...</td></tr>\n",
       "<tr><td>84 </td><td>Pittsburgh Individual Historic Properties            </td><td>Pittsburgh Individual Historic Properties<div><br /></div><div>Metadata: https://www.arcgis.com/shar ...</td></tr>\n",
       "<tr><td>...</td><td>                                                     </td><td>                                                                                                        </td></tr>\n",
       "<tr><td>243</td><td>Police Officer Training                              </td><td>This dataset shows the time spent by currently active Pittsburgh Police Officers in professional dev ...</td></tr>\n",
       "<tr><td>244</td><td>Police Civil Actions                                 </td><td>Documentation of open police bureau litigation that took place between Jan 1 and Dec 31, 2015.          </td></tr>\n",
       "<tr><td>245</td><td>Pittsburgh Neighborhoods Map                         </td><td>Allows users to look up City of Pittsburgh Neighborhoods                                                </td></tr>\n",
       "<tr><td>246</td><td>Police Community Outreach                            </td><td>Community outreach activities attended by Pittsburgh Police Officers, starting from January 1 2016.  ...</td></tr>\n",
       "<tr><td>...</td><td>                                                     </td><td>                                                                                                        </td></tr>\n",
       "<tr><td>314</td><td>Allegheny County PA Senate Districts                 </td><td>Outlines of state Senate districts. Includes district number and current district representative.       </td></tr>\n",
       "<tr><td>315</td><td>Allegheny County PA House of Representative Districts</td><td>Outlines of state House of Representatives districts. Includes district numbers and current represen ...</td></tr>\n",
       "<tr><td>316</td><td>Pittsburgh Wards Map                                 </td><td>Allows users to look up City of Pittsburgh Wards                                                        </td></tr>\n",
       "</tbody>\n",
       "</table>"
      ],
      "text/plain": [
       "<IPython.core.display.HTML object>"
      ]
     },
     "metadata": {},
     "output_type": "display_data"
    },
    {
     "data": {
      "text/plain": [
       "{'bytes': 226272,\n",
       " 'count_of_rows': 316,\n",
       " 'dataset_name': None,\n",
       " 'hash': '9cfd332fe983535916b0c7a9f1e9c153'}"
      ]
     },
     "execution_count": 14,
     "metadata": {},
     "output_type": "execute_result"
    }
   ],
   "source": [
    "from dataflows import Flow, printer, dump_to_path\n",
    "from urllib.request import urlopen\n",
    "import json\n",
    "\n",
    "# For testing data.json\n",
    "# just 1 dataset without validation errors http://data.exim.gov/data.json\n",
    "# 316 datasets with validation erros https://data.wprdc.org/data.json\n",
    "# 2868 datasets with validation errors https://www.energy.gov/sites/prod/files/2019/04/f61/doe-pdl-4-8-2019_0.json\n",
    "# 87 MB json with validation errors https://data.nasa.gov/data.json --request_timeout 90\n",
    "\n",
    "\n",
    "def data_json_to_package(row):\n",
    "    pass\n",
    "\n",
    "# Get from Wikipedia the population count for each country\n",
    "def data_json(url):\n",
    "    # Read the data.json from URL\n",
    "    raw_data = urlopen(url).read()\n",
    "    json_data = json.loads(raw_data)\n",
    "    #we expect az catalog an a list of datasets\n",
    "    catalog = None\n",
    "    \n",
    "    if type(json_data) == dict:\n",
    "        datasets = json_data.pop('dataset')\n",
    "        catalog = json_data\n",
    "        print(f'Catalog finded: {catalog}')\n",
    "    elif type(json_data) == list:  # I never see this but ckan ext expect for it.\n",
    "        print('List of datasets finded')\n",
    "        datasets = json_data\n",
    "    else:\n",
    "        raise Exception('Unknown data.json type')\n",
    "        \n",
    "    row = {}\n",
    "    for dataset in datasets:\n",
    "        # yield(dataset)\n",
    "        # yield dict(title=dataset['title'], description=dataset['description'])\n",
    "        \n",
    "        row['title'] = dataset['title']\n",
    "        row['description'] = dataset['description']\n",
    "        \n",
    "        \n",
    "        yield(row)\n",
    "\n",
    "# name, url = 'EXIM', 'http://data.exim.gov/data.json'\n",
    "name, url = 'WPRDC', 'https://data.wprdc.org/data.json'\n",
    "Flow(\n",
    "      data_json(url),\n",
    "      dump_to_path(f'package_{name}'),\n",
    "      printer(num_rows=3, tablefmt='html')\n",
    ").process()[1]"
   ]
  },
  {
   "cell_type": "code",
   "execution_count": null,
   "metadata": {},
   "outputs": [],
   "source": []
  }
 ],
 "metadata": {
  "kernelspec": {
   "display_name": "Python 3",
   "language": "python",
   "name": "python3"
  },
  "language_info": {
   "codemirror_mode": {
    "name": "ipython",
    "version": 3
   },
   "file_extension": ".py",
   "mimetype": "text/x-python",
   "name": "python",
   "nbconvert_exporter": "python",
   "pygments_lexer": "ipython3",
   "version": "3.6.7"
  }
 },
 "nbformat": 4,
 "nbformat_minor": 2
}
